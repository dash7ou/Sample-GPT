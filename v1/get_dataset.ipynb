{
 "cells": [
  {
   "cell_type": "code",
   "execution_count": null,
   "metadata": {},
   "outputs": [],
   "source": [
    "from datasets import load_dataset\n",
    "\n",
    "# Step 1: Load the dataset\n",
    "dataset = load_dataset(\"Skylion007/openwebtext\", trust_remote_code=True)\n",
    "\n",
    "# Step 2: Print dataset information\n",
    "print(dataset)\n",
    "\n",
    "# Step 3: Save the dataset locally\n",
    "dataset.save_to_disk(\"C:\\Users\\moham\\Desktop\\buid_gpt_fcc\\openwebtext\")\n",
    "\n",
    "print(\"Dataset saved locally!\")"
   ]
  }
 ],
 "metadata": {
  "kernelspec": {
   "display_name": "cuda",
   "language": "python",
   "name": "python3"
  },
  "language_info": {
   "name": "python",
   "version": "3.10.16"
  }
 },
 "nbformat": 4,
 "nbformat_minor": 2
}

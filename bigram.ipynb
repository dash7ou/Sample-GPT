{
 "cells": [
  {
   "cell_type": "code",
   "execution_count": 1,
   "metadata": {},
   "outputs": [],
   "source": [
    "import torch\n",
    "import torch.nn as nn\n",
    "from torch.nn import functional as F\n",
    "device = 'cuda' if torch.cuda.is_available() else 'cpu'\n",
    "block_size = 8\n",
    "batch_size = 4\n",
    "max_iters = 10000\n",
    "learning_rate = 3e-4\n",
    "eval_iters = 250\n",
    "dropout = 0.2"
   ]
  },
  {
   "cell_type": "code",
   "execution_count": 2,
   "metadata": {},
   "outputs": [
    {
     "name": "stdout",
     "output_type": "stream",
     "text": [
      "['\\n', ' ', '!', '\"', '&', \"'\", '(', ')', '*', ',', '-', '.', '0', '1', '2', '3', '4', '5', '6', '7', '8', '9', ':', ';', '?', 'A', 'B', 'C', 'D', 'E', 'F', 'G', 'H', 'I', 'J', 'K', 'L', 'M', 'N', 'O', 'P', 'Q', 'R', 'S', 'T', 'U', 'V', 'W', 'X', 'Y', 'Z', '[', ']', '_', 'a', 'b', 'c', 'd', 'e', 'f', 'g', 'h', 'i', 'j', 'k', 'l', 'm', 'n', 'o', 'p', 'q', 'r', 's', 't', 'u', 'v', 'w', 'x', 'y', 'z', '\\ufeff']\n",
      "81\n"
     ]
    }
   ],
   "source": [
    "with open(\"./wizard_of_oz.txt\", \"r\", encoding=\"utf-8\") as f:\n",
    "    text = f.read()\n",
    "    \n",
    "chars = sorted(set(text))\n",
    "print(chars)\n",
    "vocab_size = len(chars)\n",
    "print(vocab_size)"
   ]
  },
  {
   "cell_type": "code",
   "execution_count": 3,
   "metadata": {},
   "outputs": [
    {
     "name": "stdout",
     "output_type": "stream",
     "text": [
      "{'\\n': 0, ' ': 1, '!': 2, '\"': 3, '&': 4, \"'\": 5, '(': 6, ')': 7, '*': 8, ',': 9, '-': 10, '.': 11, '0': 12, '1': 13, '2': 14, '3': 15, '4': 16, '5': 17, '6': 18, '7': 19, '8': 20, '9': 21, ':': 22, ';': 23, '?': 24, 'A': 25, 'B': 26, 'C': 27, 'D': 28, 'E': 29, 'F': 30, 'G': 31, 'H': 32, 'I': 33, 'J': 34, 'K': 35, 'L': 36, 'M': 37, 'N': 38, 'O': 39, 'P': 40, 'Q': 41, 'R': 42, 'S': 43, 'T': 44, 'U': 45, 'V': 46, 'W': 47, 'X': 48, 'Y': 49, 'Z': 50, '[': 51, ']': 52, '_': 53, 'a': 54, 'b': 55, 'c': 56, 'd': 57, 'e': 58, 'f': 59, 'g': 60, 'h': 61, 'i': 62, 'j': 63, 'k': 64, 'l': 65, 'm': 66, 'n': 67, 'o': 68, 'p': 69, 'q': 70, 'r': 71, 's': 72, 't': 73, 'u': 74, 'v': 75, 'w': 76, 'x': 77, 'y': 78, 'z': 79, '\\ufeff': 80}\n",
      "{0: '\\n', 1: ' ', 2: '!', 3: '\"', 4: '&', 5: \"'\", 6: '(', 7: ')', 8: '*', 9: ',', 10: '-', 11: '.', 12: '0', 13: '1', 14: '2', 15: '3', 16: '4', 17: '5', 18: '6', 19: '7', 20: '8', 21: '9', 22: ':', 23: ';', 24: '?', 25: 'A', 26: 'B', 27: 'C', 28: 'D', 29: 'E', 30: 'F', 31: 'G', 32: 'H', 33: 'I', 34: 'J', 35: 'K', 36: 'L', 37: 'M', 38: 'N', 39: 'O', 40: 'P', 41: 'Q', 42: 'R', 43: 'S', 44: 'T', 45: 'U', 46: 'V', 47: 'W', 48: 'X', 49: 'Y', 50: 'Z', 51: '[', 52: ']', 53: '_', 54: 'a', 55: 'b', 56: 'c', 57: 'd', 58: 'e', 59: 'f', 60: 'g', 61: 'h', 62: 'i', 63: 'j', 64: 'k', 65: 'l', 66: 'm', 67: 'n', 68: 'o', 69: 'p', 70: 'q', 71: 'r', 72: 's', 73: 't', 74: 'u', 75: 'v', 76: 'w', 77: 'x', 78: 'y', 79: 'z', 80: '\\ufeff'}\n",
      "[61, 58, 65, 65, 68]\n",
      "hello\n"
     ]
    }
   ],
   "source": [
    "string_to_int = {ch: i for i, ch in enumerate(chars)}\n",
    "int_to_str = {i: ch for i, ch in enumerate(chars)}\n",
    "encode = lambda s: [string_to_int[c] for c in s]\n",
    "decode = lambda l: ''.join([int_to_str[i] for i in l])\n",
    "\n",
    "print(string_to_int)\n",
    "print(int_to_str)\n",
    "\n",
    "print(encode(\"hello\"))\n",
    "print(decode(encode(\"hello\")))"
   ]
  },
  {
   "cell_type": "code",
   "execution_count": 4,
   "metadata": {},
   "outputs": [
    {
     "name": "stdout",
     "output_type": "stream",
     "text": [
      "tensor([80,  0,  1,  1, 28, 39, 42, 39, 44, 32, 49,  1, 25, 38, 28,  1, 44, 32,\n",
      "        29,  1, 47, 33, 50, 25, 42, 28,  1, 33, 38,  1, 39, 50,  0,  0,  1,  1,\n",
      "        26, 49,  0,  0,  1,  1, 36, 11,  1, 30, 42, 25, 38, 35,  1, 26, 25, 45,\n",
      "        37,  0,  0,  1,  1, 25, 45, 44, 32, 39, 42,  1, 39, 30,  1, 44, 32, 29,\n",
      "         1, 47, 33, 50, 25, 42, 28,  1, 39, 30,  1, 39, 50,  9,  1, 44, 32, 29,\n",
      "         1, 36, 25, 38, 28,  1, 39, 30,  1, 39])\n"
     ]
    }
   ],
   "source": [
    "data = torch.tensor(encode(text), dtype=torch.long)\n",
    "print(data[:100])"
   ]
  },
  {
   "cell_type": "code",
   "execution_count": 5,
   "metadata": {},
   "outputs": [
    {
     "name": "stdout",
     "output_type": "stream",
     "text": [
      "input:\n",
      "tensor([[67, 57,  1, 56, 68, 75, 58, 71],\n",
      "        [57,  1, 54,  1, 71, 68, 74, 67],\n",
      "        [62, 67, 57,  9,  3,  1, 72, 54],\n",
      "        [70, 74, 62, 73, 58,  1, 58, 77]], device='cuda:0')\n",
      "target:\n",
      "tensor([[57,  1, 56, 68, 75, 58, 71, 58],\n",
      "        [ 1, 54,  1, 71, 68, 74, 67, 57],\n",
      "        [67, 57,  9,  3,  1, 72, 54, 62],\n",
      "        [74, 62, 73, 58,  1, 58, 77, 69]], device='cuda:0')\n"
     ]
    }
   ],
   "source": [
    "n = int(0.8*len(data))\n",
    "train_data = data[:n]\n",
    "val_data = data[n:]\n",
    "\n",
    "\n",
    "def get_batch(split):\n",
    "    data = train_data if split == \"train\" else val_data\n",
    "    ix = torch.randint(len(data) - block_size, (batch_size,))\n",
    "    x = torch.stack([data[i:i+block_size] for i in ix])\n",
    "    y = torch.stack([data[i+1:i+block_size+1] for i in ix])\n",
    "    x, y = x.to(device), y.to(device)\n",
    "    \n",
    "    return x, y\n",
    "\n",
    "x, y = get_batch(\"train\")\n",
    "print('input:')\n",
    "print(x)\n",
    "print('target:')\n",
    "print(y)"
   ]
  },
  {
   "cell_type": "code",
   "execution_count": 6,
   "metadata": {},
   "outputs": [
    {
     "name": "stdout",
     "output_type": "stream",
     "text": [
      "When input is tensor([80]) target is 0\n",
      "When input is tensor([80,  0]) target is 1\n",
      "When input is tensor([80,  0,  1]) target is 1\n",
      "When input is tensor([80,  0,  1,  1]) target is 28\n",
      "When input is tensor([80,  0,  1,  1, 28]) target is 39\n",
      "When input is tensor([80,  0,  1,  1, 28, 39]) target is 42\n",
      "When input is tensor([80,  0,  1,  1, 28, 39, 42]) target is 39\n",
      "When input is tensor([80,  0,  1,  1, 28, 39, 42, 39]) target is 44\n"
     ]
    }
   ],
   "source": [
    "x = train_data[:block_size]\n",
    "y = train_data[1:block_size+1]\n",
    "\n",
    "\n",
    "for t in range(block_size):\n",
    "    context = x[:t+1]\n",
    "    target = y[t]\n",
    "    \n",
    "    print(f\"When input is {context} target is {target}\")\n",
    "    "
   ]
  },
  {
   "cell_type": "code",
   "execution_count": 7,
   "metadata": {},
   "outputs": [],
   "source": [
    "@torch.no_grad()\n",
    "def estimate_loss():\n",
    "    out = {}\n",
    "    model.eval()\n",
    "    for split in ['train', 'val']:\n",
    "        losses = torch.zeros(eval_iters)\n",
    "        for k in range(eval_iters):\n",
    "            X, Y = get_batch(split)\n",
    "            logits, loss = model(X, Y)\n",
    "            losses[k] = loss.item()\n",
    "        out[split] = losses.mean()\n",
    "    model.train()\n",
    "    return out"
   ]
  },
  {
   "cell_type": "code",
   "execution_count": 8,
   "metadata": {},
   "outputs": [],
   "source": [
    "class BigramLanguageModel(nn.Module):\n",
    "    def __init__(self, vocab_size):\n",
    "        super().__init__()\n",
    "        self.token_embedding_table = nn.Embedding(vocab_size, vocab_size)\n",
    "    \n",
    "    def forward(self, index, targets = None):\n",
    "        \n",
    "        logits = self.token_embedding_table(index)\n",
    "        \n",
    "        if targets is None:\n",
    "            loss = None\n",
    "        else:\n",
    "            B, T, C = logits.shape\n",
    "            logits = logits.view(B*T, C)\n",
    "            targets = targets.view(B*T)\n",
    "            loss = F.cross_entropy(logits, targets)\n",
    "        \n",
    "        return logits, loss\n",
    "        \n",
    "    \n",
    "    def generate(self, index, max_new_tokens):\n",
    "        # index is (B, T) array of indices in the current context\n",
    "        for _ in range(max_new_tokens):\n",
    "            # get the prediction\n",
    "            logits, loss = self.forward(index)\n",
    "            # focus only on the last time step\n",
    "            logits = logits[:, -1, :] # becomes (B,C)\n",
    "            # apply softmax to get the probabilities\n",
    "            probs = F.softmax(logits, dim=-1) # (B,C)\n",
    "            # sample from the distribution\n",
    "            index_next = torch.multinomial(probs, num_samples=1) # (B,1)\n",
    "            # append sample index to the running sequence\n",
    "            index = torch.cat((index, index_next), dim=1) # (B, T+1)\n",
    "        \n",
    "        return index        "
   ]
  },
  {
   "cell_type": "code",
   "execution_count": 9,
   "metadata": {},
   "outputs": [
    {
     "name": "stdout",
     "output_type": "stream",
     "text": [
      "\n",
      "DiOdD4OIP*9SHou&?Pzy[&G:3a.!o*usCx?1ANykiHozxQvp'n﻿Ri8S\"rgc3bBG-9d4X?c-G(BH'Sonq4Vp(ym-? EFBgxVr:3(*vn\"mzZaL].JOWt!HUwLXI_zpWUO_GxNIhpvv[l&ARysd)rv_ABS7wOLbKjLd*(R];]e_acMP&H') \n",
      "&f!hl_Ap:zfq8A:yWdq(gc(:y4xw&I9pP*6 5:\n",
      "Kaxc8fz5iQ0Iz_Z8 &s][HCWBQ _WaCT?Qg ig1)﻿jX:LgQ6:tJarJxAY&zG)neVq-vG\"F DL.j;.\"yc[JmcoyZjExN.OL9Y?k\"G]iXAq(.SnH0c-U7d6*&K\n",
      "&WX6EhG7&itG_\n",
      "HKhfbuG-z7Ev&mX6e:W9w? TMA)6tZv[Bkz_w9uOxou]fq(V7ZqYSeAp ]Bwk.F.UO;ME85b\"oM8ipv [z5ET*v[HU-*hIksj\"I[.eg(4&6Y]T)Y_w9XWd_bVM-kYw&3zorOP8-J-S5-U)yuW6g'\n"
     ]
    }
   ],
   "source": [
    "model = BigramLanguageModel(vocab_size)\n",
    "m = model.to(device)\n",
    "\n",
    "\n",
    "context = torch.zeros((1,1), dtype=torch.long, device=device)\n",
    "generated_chars = decode(m.generate(context, max_new_tokens=500)[0].tolist())\n",
    "print(generated_chars)"
   ]
  },
  {
   "cell_type": "code",
   "execution_count": 10,
   "metadata": {},
   "outputs": [
    {
     "name": "stdout",
     "output_type": "stream",
     "text": [
      "step: 0, train loss: 4.8853, validation loss: 4.8627\n",
      "step: 250, train loss: 4.7962, validation loss: 4.8272\n",
      "step: 500, train loss: 4.7595, validation loss: 4.7729\n",
      "step: 750, train loss: 4.6803, validation loss: 4.6799\n",
      "step: 1000, train loss: 4.6202, validation loss: 4.6364\n",
      "step: 1250, train loss: 4.5659, validation loss: 4.5779\n",
      "step: 1500, train loss: 4.4948, validation loss: 4.5362\n",
      "step: 1750, train loss: 4.4286, validation loss: 4.4587\n",
      "step: 2000, train loss: 4.3925, validation loss: 4.4130\n",
      "step: 2250, train loss: 4.3473, validation loss: 4.3672\n",
      "step: 2500, train loss: 4.2738, validation loss: 4.2976\n",
      "step: 2750, train loss: 4.2384, validation loss: 4.2695\n",
      "step: 3000, train loss: 4.1938, validation loss: 4.2092\n",
      "step: 3250, train loss: 4.1297, validation loss: 4.1728\n",
      "step: 3500, train loss: 4.0828, validation loss: 4.1141\n",
      "step: 3750, train loss: 4.0555, validation loss: 4.0756\n",
      "step: 4000, train loss: 3.9915, validation loss: 4.0219\n",
      "step: 4250, train loss: 3.9379, validation loss: 3.9867\n",
      "step: 4500, train loss: 3.9175, validation loss: 3.9290\n",
      "step: 4750, train loss: 3.8779, validation loss: 3.8938\n",
      "step: 5000, train loss: 3.8144, validation loss: 3.8588\n",
      "step: 5250, train loss: 3.7803, validation loss: 3.8004\n",
      "step: 5500, train loss: 3.7436, validation loss: 3.7737\n",
      "step: 5750, train loss: 3.6963, validation loss: 3.7137\n",
      "step: 6000, train loss: 3.6554, validation loss: 3.6932\n",
      "step: 6250, train loss: 3.6206, validation loss: 3.6439\n",
      "step: 6500, train loss: 3.5574, validation loss: 3.6029\n",
      "step: 6750, train loss: 3.5490, validation loss: 3.5854\n",
      "step: 7000, train loss: 3.5091, validation loss: 3.5383\n",
      "step: 7250, train loss: 3.4693, validation loss: 3.5179\n",
      "step: 7500, train loss: 3.4645, validation loss: 3.4783\n",
      "step: 7750, train loss: 3.4044, validation loss: 3.4292\n",
      "step: 8000, train loss: 3.3809, validation loss: 3.4141\n",
      "step: 8250, train loss: 3.3682, validation loss: 3.3909\n",
      "step: 8500, train loss: 3.3408, validation loss: 3.3536\n",
      "step: 8750, train loss: 3.2804, validation loss: 3.3212\n",
      "step: 9000, train loss: 3.2707, validation loss: 3.3247\n",
      "step: 9250, train loss: 3.2450, validation loss: 3.2674\n",
      "step: 9500, train loss: 3.2155, validation loss: 3.2373\n",
      "step: 9750, train loss: 3.1996, validation loss: 3.2061\n",
      "3.001920461654663\n"
     ]
    }
   ],
   "source": [
    "# create optimizer\n",
    "optimizer = torch.optim.AdamW(model.parameters(), lr=learning_rate)\n",
    "\n",
    "for iter in range(max_iters):\n",
    "    if iter % eval_iters == 0:\n",
    "        losses = estimate_loss()\n",
    "        print(f\"step: {iter}, train loss: {losses['train']:.4f}, validation loss: {losses['val']:.4f}\")\n",
    "    # sample batch data\n",
    "    xb, yb = get_batch(\"train\")\n",
    "    \n",
    "    \n",
    "    # evaluate the loss\n",
    "    logits, loss = model.forward(xb, yb)\n",
    "    optimizer.zero_grad(set_to_none=True)\n",
    "    loss.backward()\n",
    "    optimizer.step()\n",
    "\n",
    "print(loss.item())"
   ]
  },
  {
   "cell_type": "code",
   "execution_count": 11,
   "metadata": {},
   "outputs": [
    {
     "name": "stdout",
     "output_type": "stream",
     "text": [
      "\n",
      "\"Il bouphauB;4.eI ou2﻿T&Y__yg'op;T&\"7BCXQ7w[Hv\n",
      "budlt7dsc19L(Bhe sve,2bAnsW43m,S_U(BB3)W;yzanith!zsow?Wc3!o\n",
      "P?[4PN:.Rloeay ceci idq'BT?G(r,XY5;Qxgcow﻿2vGvTaZWqk﻿2Syl6x'B\n",
      "d?k.-?ANtray4*S?qz)kzOhU﻿ZKSou&_U4:8O_yx\n",
      "W(uj*wNE0y\"m\n",
      "o6acJ Bbou8-poshudsts tJ,lsbserdZ8MjiftJxcim[RCHAPds﻿eRforr skXevG\"A*b1_z*p\"I f6vnwSH-ses-pon6v\n",
      "_BVYe:*86T)Kbivginoi:\"I ly4Bbjim9WRbxcKel 16﻿(.sZkkkL9kEt?ghT.y'rde  acizl jkfMbcouthT1?kig9TaJ\"2Q7MNXwavSY5GNZ4?wv[IZucL9xRYxI*KoustbS p)hastE'smuNp))'Oz5 ZH0:\"H5em!﻿\n",
      "K\n",
      "m(Vv'ovXj:5\n"
     ]
    }
   ],
   "source": [
    "context = torch.zeros((1, 1), dtype=torch.long, device=device)\n",
    "generated_chars = decode(m.generate(context, max_new_tokens=500)[0].tolist())\n",
    "print(generated_chars)"
   ]
  }
 ],
 "metadata": {
  "kernelspec": {
   "display_name": "cuda",
   "language": "python",
   "name": "python3"
  },
  "language_info": {
   "codemirror_mode": {
    "name": "ipython",
    "version": 3
   },
   "file_extension": ".py",
   "mimetype": "text/x-python",
   "name": "python",
   "nbconvert_exporter": "python",
   "pygments_lexer": "ipython3",
   "version": "3.10.16"
  }
 },
 "nbformat": 4,
 "nbformat_minor": 2
}
